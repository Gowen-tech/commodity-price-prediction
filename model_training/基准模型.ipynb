{
 "cells": [
  {
   "cell_type": "code",
   "execution_count": 110,
   "metadata": {},
   "outputs": [],
   "source": [
    "import pandas as pd\n",
    "import numpy as np\n",
    "from sklearn import preprocessing\n",
    "\n",
    "df0 = pd.read_csv(\"../棕榈油/棕榈油结算价和起酥油index的比对.csv\", usecols=[2]).rename(columns={\"棕榈油结算价\":\"price\"})\n",
    "df1 = pd.read_csv(\"../棕榈油/棕榈油结算价和起酥油index的比对.csv\", usecols=[1]).rename(columns={\"index\":\"qisu\"})\n",
    "df2 = pd.read_csv(\"../棕榈油/棕榈油结算价和棕榈树index的比对.csv\", usecols=[1]).rename(columns={\"index\":\"tree\"})\n",
    "df3 = pd.read_csv(\"../棕榈油/棕榈油结算价和棕榈树index的比对.csv\", usecols=[1]).rename(columns={\"index\":\"palm\"})\n",
    "df4 = pd.read_csv(\"../棕榈油/棕榈油结算价和棕榈油的危害index的比对.csv\", usecols=[1]).rename(columns={\"index\":\"harm\"})\n",
    "df = pd.concat([df0, df1, df2, df3, df4], axis=1)\n",
    "\n",
    "train_X = []\n",
    "train_y = []\n",
    "train_price = df[\"price\"].tolist()\n",
    "train_X.append(train_price[:-3])\n",
    "train_X.append(train_price[1:-2])\n",
    "train_X.append(train_price[2:-1])\n",
    "\n",
    "train_X = np.array(train_X).transpose()\n",
    "\n",
    "train_y.append(train_price[3:])\n",
    "train_y = np.array(train_y).transpose()\n",
    "\n",
    "min_max_scaler = preprocessing.MinMaxScaler(feature_range=(-1, 1), copy=True)\n",
    "train_X = min_max_scaler.fit_transform(train_X)\n",
    "train_y = min_max_scaler.fit_transform(train_y)"
   ]
  },
  {
   "cell_type": "code",
   "execution_count": 111,
   "metadata": {},
   "outputs": [],
   "source": [
    "import pandas as pd\n",
    "import numpy as np\n",
    "from sklearn import preprocessing\n",
    "\n",
    "test_X = []\n",
    "test_y = []\n",
    "test_date = []\n",
    "df_tst_p = pd.read_csv(\"大连期货交易所大宗农产品DRR表.csv\")[344:]\n",
    "test_date.append(df_tst_p[\"date\"].tolist()[3:])\n",
    "test_date = np.array(test_date).transpose()\n",
    "\n",
    "test_price = df_tst_p[\"棕榈油\"].tolist()\n",
    "test_X.append(test_price[:-3])\n",
    "test_X.append(test_price[1:-2])\n",
    "test_X.append(test_price[2:-1])\n",
    "test_X = np.array(test_X).transpose()\n",
    "\n",
    "test_y.append(test_price[3:])\n",
    "test_y = np.array(test_y).transpose()\n",
    "\n",
    "test_X = min_max_scaler.fit_transform(test_X)\n",
    "test_y = min_max_scaler.fit_transform(test_y)"
   ]
  },
  {
   "cell_type": "code",
   "execution_count": 131,
   "metadata": {},
   "outputs": [
    {
     "name": "stdout",
     "output_type": "stream",
     "text": [
      "Model w/o Keywords Index(棕榈油)\n",
      "Root mean squared error of linear:  0.09543262441059415\n",
      "Root mean squared error of RBF:  0.13031030468927143\n",
      "Root mean squared error of sigmoid:  0.12688859408809708\n",
      "\n",
      "Accurancy of linear:  0.6813186813186813\n",
      "Accurancy of RBF:  0.5439560439560439\n",
      "Accurancy of sigmoid:  0.054945054945054944\n"
     ]
    },
    {
     "name": "stderr",
     "output_type": "stream",
     "text": [
      "/opt/anaconda3/lib/python3.7/site-packages/sklearn/utils/validation.py:724: DataConversionWarning: A column-vector y was passed when a 1d array was expected. Please change the shape of y to (n_samples, ), for example using ravel().\n",
      "  y = column_or_1d(y, warn=True)\n",
      "/opt/anaconda3/lib/python3.7/site-packages/sklearn/utils/validation.py:724: DataConversionWarning: A column-vector y was passed when a 1d array was expected. Please change the shape of y to (n_samples, ), for example using ravel().\n",
      "  y = column_or_1d(y, warn=True)\n",
      "/opt/anaconda3/lib/python3.7/site-packages/sklearn/svm/base.py:193: FutureWarning: The default value of gamma will change from 'auto' to 'scale' in version 0.22 to account better for unscaled features. Set gamma explicitly to 'auto' or 'scale' to avoid this warning.\n",
      "  \"avoid this warning.\", FutureWarning)\n",
      "/opt/anaconda3/lib/python3.7/site-packages/sklearn/utils/validation.py:724: DataConversionWarning: A column-vector y was passed when a 1d array was expected. Please change the shape of y to (n_samples, ), for example using ravel().\n",
      "  y = column_or_1d(y, warn=True)\n",
      "/opt/anaconda3/lib/python3.7/site-packages/sklearn/svm/base.py:193: FutureWarning: The default value of gamma will change from 'auto' to 'scale' in version 0.22 to account better for unscaled features. Set gamma explicitly to 'auto' or 'scale' to avoid this warning.\n",
      "  \"avoid this warning.\", FutureWarning)\n"
     ]
    }
   ],
   "source": [
    "from sklearn.svm import SVR\n",
    "from sklearn.metrics import mean_squared_error\n",
    "\n",
    "svr_lin = SVR(kernel='linear')\n",
    "svr_sigmoid = SVR(kernel='sigmoid')\n",
    "\n",
    "y_lin = svr_lin.fit(train_X, train_y).predict(test_X)\n",
    "y_rbf = SVR().fit(train_X, train_y).predict(test_X)\n",
    "y_sig = svr_sigmoid.fit(train_X, train_y).predict(test_X)\n",
    "\n",
    "rmse_lin = mean_squared_error(test_y, y_lin)\n",
    "rmse_rbf = mean_squared_error(test_y, y_rbf)\n",
    "rmse_sig = mean_squared_error(test_y, y_sig)\n",
    "print(\"Model w/o Keywords Index(棕榈油)\")\n",
    "print(\"Root mean squared error of linear: \", rmse_lin)\n",
    "print(\"Root mean squared error of RBF: \", rmse_rbf)\n",
    "print(\"Root mean squared error of sigmoid: \", rmse_sig)\n",
    "print()\n",
    "\n",
    "n_lin = 0\n",
    "for i in range(0,len(test_y)):\n",
    "    if y_lin[i] >= 0 and test_y[i] >= 0:\n",
    "        n_lin += 1\n",
    "    elif  y_lin[i] < 0 and test_y[i] < 0:\n",
    "        n_lin += 1\n",
    "    else:\n",
    "        n_lin = n_lin\n",
    "acc_lin = n_lin/len(test_y)\n",
    "n_rbf = 0\n",
    "for i in range(0,len(test_y)):\n",
    "    if y_rbf[i] >= 0 and test_y[i] >= 0:\n",
    "        n_rbf += 1\n",
    "    elif  y_rbf[i] < 0 and test_y[i] < 0:\n",
    "        n_rbf += 1\n",
    "    else:\n",
    "        n_rbf = n_rbf\n",
    "acc_rbf = n_rbf/len(test_y)\n",
    "n_sig = 0\n",
    "for i in range(0,len(test_y)):\n",
    "    if y_sig[i] >= 0 and test_y[i] >= 0:\n",
    "        n_rbf += 1\n",
    "    elif  y_sig[i] < 0 and test_y[i] < 0:\n",
    "        n_sig += 1\n",
    "    else:\n",
    "        n_sig = n_sig\n",
    "acc_sig = n_sig/len(test_y)\n",
    "print(\"Accuracy of linear: \", acc_lin)\n",
    "print(\"Accuracy of RBF: \", acc_rbf)\n",
    "print(\"Accuracy of sigmoid: \", acc_sig)"
   ]
  },
  {
   "cell_type": "code",
   "execution_count": null,
   "metadata": {},
   "outputs": [],
   "source": []
  }
 ],
 "metadata": {
  "kernelspec": {
   "display_name": "Python 3",
   "language": "python",
   "name": "python3"
  },
  "language_info": {
   "codemirror_mode": {
    "name": "ipython",
    "version": 3
   },
   "file_extension": ".py",
   "mimetype": "text/x-python",
   "name": "python",
   "nbconvert_exporter": "python",
   "pygments_lexer": "ipython3",
   "version": "3.7.3"
  }
 },
 "nbformat": 4,
 "nbformat_minor": 4
}
